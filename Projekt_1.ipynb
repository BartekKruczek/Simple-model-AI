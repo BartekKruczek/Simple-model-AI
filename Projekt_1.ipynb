{
  "cells": [
    {
      "cell_type": "markdown",
      "metadata": {
        "id": "T5kpmY_yejZo"
      },
      "source": [
        "**PROJEKT I PODSTAWY UCZENIA MASZYNOWEGO W TECHNOLOGIACH AKUSTYCZNYCH - BARTŁOMIEJ KRUCZEK, FILIP ULMANIEC**\n",
        "\n"
      ]
    },
    {
      "cell_type": "markdown",
      "metadata": {
        "id": "8siVCn7HO-ng"
      },
      "source": [
        "# PRZYGOTOWANIA DANYCH"
      ]
    },
    {
      "cell_type": "markdown",
      "metadata": {
        "id": "qhrEC4lI1Sl6"
      },
      "source": [
        "Instalacja potrzebnych bibliotek"
      ]
    },
    {
      "cell_type": "code",
      "execution_count": null,
      "metadata": {
        "colab": {
          "base_uri": "https://localhost:8080/"
        },
        "id": "gT1gOJ15qETT",
        "outputId": "6f71c4fd-c1f8-4e13-db3a-018ebde6b1af"
      },
      "outputs": [
        {
          "name": "stdout",
          "output_type": "stream",
          "text": [
            "Looking in indexes: https://pypi.org/simple, https://us-python.pkg.dev/colab-wheels/public/simple/\n",
            "Requirement already satisfied: pydub in /usr/local/lib/python3.8/dist-packages (0.25.1)\n",
            "Looking in indexes: https://pypi.org/simple, https://us-python.pkg.dev/colab-wheels/public/simple/\n",
            "Requirement already satisfied: optuna in /usr/local/lib/python3.8/dist-packages (3.0.5)\n",
            "Requirement already satisfied: importlib-metadata<5.0.0 in /usr/local/lib/python3.8/dist-packages (from optuna) (4.13.0)\n",
            "Requirement already satisfied: cliff in /usr/local/lib/python3.8/dist-packages (from optuna) (4.1.0)\n",
            "Requirement already satisfied: packaging>=20.0 in /usr/local/lib/python3.8/dist-packages (from optuna) (21.3)\n",
            "Requirement already satisfied: colorlog in /usr/local/lib/python3.8/dist-packages (from optuna) (6.7.0)\n",
            "Requirement already satisfied: tqdm in /usr/local/lib/python3.8/dist-packages (from optuna) (4.64.1)\n",
            "Requirement already satisfied: sqlalchemy>=1.3.0 in /usr/local/lib/python3.8/dist-packages (from optuna) (1.4.45)\n",
            "Requirement already satisfied: scipy<1.9.0,>=1.7.0 in /usr/local/lib/python3.8/dist-packages (from optuna) (1.7.3)\n",
            "Requirement already satisfied: numpy in /usr/local/lib/python3.8/dist-packages (from optuna) (1.21.6)\n",
            "Requirement already satisfied: PyYAML in /usr/local/lib/python3.8/dist-packages (from optuna) (6.0)\n",
            "Requirement already satisfied: alembic>=1.5.0 in /usr/local/lib/python3.8/dist-packages (from optuna) (1.9.1)\n",
            "Requirement already satisfied: cmaes>=0.8.2 in /usr/local/lib/python3.8/dist-packages (from optuna) (0.9.0)\n",
            "Requirement already satisfied: importlib-resources in /usr/local/lib/python3.8/dist-packages (from alembic>=1.5.0->optuna) (5.10.1)\n",
            "Requirement already satisfied: Mako in /usr/local/lib/python3.8/dist-packages (from alembic>=1.5.0->optuna) (1.2.4)\n",
            "Requirement already satisfied: zipp>=0.5 in /usr/local/lib/python3.8/dist-packages (from importlib-metadata<5.0.0->optuna) (3.11.0)\n",
            "Requirement already satisfied: pyparsing!=3.0.5,>=2.0.2 in /usr/local/lib/python3.8/dist-packages (from packaging>=20.0->optuna) (3.0.9)\n",
            "Requirement already satisfied: greenlet!=0.4.17 in /usr/local/lib/python3.8/dist-packages (from sqlalchemy>=1.3.0->optuna) (2.0.1)\n",
            "Requirement already satisfied: PrettyTable>=0.7.2 in /usr/local/lib/python3.8/dist-packages (from cliff->optuna) (3.5.0)\n",
            "Requirement already satisfied: autopage>=0.4.0 in /usr/local/lib/python3.8/dist-packages (from cliff->optuna) (0.5.1)\n",
            "Requirement already satisfied: cmd2>=1.0.0 in /usr/local/lib/python3.8/dist-packages (from cliff->optuna) (2.4.2)\n",
            "Requirement already satisfied: stevedore>=2.0.1 in /usr/local/lib/python3.8/dist-packages (from cliff->optuna) (4.1.1)\n",
            "Requirement already satisfied: pyperclip>=1.6 in /usr/local/lib/python3.8/dist-packages (from cmd2>=1.0.0->cliff->optuna) (1.8.2)\n",
            "Requirement already satisfied: wcwidth>=0.1.7 in /usr/local/lib/python3.8/dist-packages (from cmd2>=1.0.0->cliff->optuna) (0.2.5)\n",
            "Requirement already satisfied: attrs>=16.3.0 in /usr/local/lib/python3.8/dist-packages (from cmd2>=1.0.0->cliff->optuna) (22.1.0)\n",
            "Requirement already satisfied: pbr!=2.1.0,>=2.0.0 in /usr/local/lib/python3.8/dist-packages (from stevedore>=2.0.1->cliff->optuna) (5.11.0)\n",
            "Requirement already satisfied: MarkupSafe>=0.9.2 in /usr/local/lib/python3.8/dist-packages (from Mako->alembic>=1.5.0->optuna) (2.0.1)\n"
          ]
        }
      ],
      "source": [
        "%pip install pydub\n",
        "%pip install optuna\n",
        "import librosa\n",
        "import glob\n",
        "from pydub import AudioSegment\n",
        "from google.colab import drive\n",
        "import os\n",
        "from pydub import AudioSegment\n",
        "import numpy as np\n",
        "from sklearn.neighbors import KNeighborsClassifier\n",
        "from sklearn.model_selection import train_test_split\n",
        "from sklearn.preprocessing import StandardScaler\n",
        "from sklearn.svm import SVC\n",
        "from collections import Counter\n",
        "import matplotlib.pyplot as plt\n",
        "from sklearn.pipeline import make_pipeline\n",
        "from sklearn.metrics import roc_auc_score, roc_curve, auc, precision_recall_curve, accuracy_score, f1_score, make_scorer, confusion_matrix, log_loss, recall_score, precision_score\n",
        "from sklearn.linear_model import LogisticRegression\n",
        "import optuna\n",
        "from sklearn.model_selection import cross_validate, StratifiedKFold\n",
        "import pickle\n",
        "import pandas as pd"
      ]
    },
    {
      "cell_type": "markdown",
      "metadata": {
        "id": "-uor5aV91YjS"
      },
      "source": [
        "Łaczenie colaba z dyskiem googl'a, listowanie plików znajdujących się w folderze, których będziemy używać do analizy."
      ]
    },
    {
      "cell_type": "code",
      "execution_count": null,
      "metadata": {
        "colab": {
          "base_uri": "https://localhost:8080/"
        },
        "id": "CGtqUM1TemK2",
        "outputId": "e994af66-ba97-4107-9658-c9e7b982caf8"
      },
      "outputs": [
        {
          "name": "stdout",
          "output_type": "stream",
          "text": [
            "Mounted at /content/drive/\n",
            "10-K.mp3  18-K.mp3  24-M.mp3  31-K.mp3\t38-M.mp3  46-K.mp3  53-K.mp3  60-M.mp3\n",
            "10-M.mp3  18-M.mp3  25-K.mp3  31-M.mp3\t39-K.mp3  46-M.mp3  53-M.mp3  6-K.mp3\n",
            "11-K.mp3  19-K.mp3  25-M.mp3  32-K.mp3\t39-M.mp3  47-K.mp3  54-K.mp3  6-M.mp3\n",
            "11-M.mp3  19-M.mp3  26-K.mp3  32-M.mp3\t3-K.mp3   48-K.mp3  55-K.mp3  7-K.mp3\n",
            "12-K.mp3  1-K.mp3   26-M.mp3  33-K.mp3\t3-M.mp3   48-M.mp3  55-M.mp3  7-M.mp3\n",
            "13-K.mp3  1-M.mp3   27-K.mp3  33-M.mp3\t40-K.mp3  49-K.mp3  56-K.mp3  8-K.mp3\n",
            "13-M.mp3  20-K.mp3  27-M.mp3  34-K.mp3\t41-K.mp3  49-M.mp3  56-M.mp3  8-M.mp3\n",
            "14-K.mp3  20-M.mp3  28-K.mp3  34-M.mp3\t42-K.mp3  4-K.mp3   57-K.mp3  9-K.mp3\n",
            "14-M.mp3  21-K.mp3  28-M.mp3  35-K.mp3\t42-M.mp3  4-M.mp3   57-M.mp3  9-M.mp3\n",
            "15-K.mp3  21-M.mp3  29-K.mp3  35-M.mp3\t43-K.mp3  50-K.mp3  58-K.mp3\n",
            "15-M.mp3  22-K.mp3  29-M.mp3  36-K.mp3\t43-M.mp3  50-M.mp3  58-M.mp3\n",
            "16-K.mp3  22-M.mp3  2-K.mp3   36-M.mp3\t44-K.mp3  51-K.mp3  59-K.mp3\n",
            "16-M.mp3  23-K.mp3  2-M.mp3   37-K.mp3\t44-M.mp3  51-M.mp3  5-K.mp3\n",
            "17-K.mp3  23-M.mp3  30-K.mp3  37-M.mp3\t45-K.mp3  52-K.mp3  5-M.mp3\n",
            "17-M.mp3  24-K.mp3  30-M.mp3  38-K.mp3\t45-M.mp3  52-M.mp3  60-K.mp3\n"
          ]
        }
      ],
      "source": [
        "drive.mount('/content/drive/', force_remount=True)\n",
        "root = '/content/drive/MyDrive/Studia/PUM/Projekt_1/audio_records/Train'\n",
        "os.chdir(root)\n",
        "!ls"
      ]
    },
    {
      "cell_type": "markdown",
      "metadata": {
        "id": "PNFvUTXB2HTO"
      },
      "source": [
        "Zamiana nagrań z .mp3 do .wav\n"
      ]
    },
    {
      "cell_type": "code",
      "execution_count": null,
      "metadata": {
        "id": "wI4YTuw-7TGA"
      },
      "outputs": [],
      "source": [
        "path = \"/content/drive/MyDrive/Studia/PUM/Projekt_1/audio_records/Train\"\n",
        "path_export = \"/content/drive/MyDrive/Studia/PUM/Projekt_1/audio_records/Train_new\"\n",
        "\n",
        "\n",
        "os.chdir(path)\n",
        "audio_files = os.listdir()\n",
        "\n",
        "for file in audio_files:\n",
        "    name, ext = os.path.splitext(file)\n",
        "    if ext == \".mp3\":\n",
        "       mp3_sound = AudioSegment.from_mp3(file)\n",
        "       mp3_sound.export(path_export+\"{0}.wav\".format(name), format=\"wav\")"
      ]
    },
    {
      "cell_type": "markdown",
      "metadata": {
        "id": "Z1HN5Afv4DOx"
      },
      "source": [
        "Sprawdzamy czu udało się zamienić poprzez wylistowanie plików w folderze, do któreho zapisywaliśmy wav'y."
      ]
    },
    {
      "cell_type": "code",
      "execution_count": null,
      "metadata": {
        "colab": {
          "base_uri": "https://localhost:8080/"
        },
        "id": "R130TgCS-AJ6",
        "outputId": "1be66fb1-6c14-4834-d924-bc85ddd94177"
      },
      "outputs": [
        {
          "name": "stdout",
          "output_type": "stream",
          "text": [
            "10-K.wav  18-K.wav  24-M.wav  31-K.wav\t38-M.wav  46-K.wav  53-K.wav  60-M.wav\n",
            "10-M.wav  18-M.wav  25-K.wav  31-M.wav\t39-K.wav  46-M.wav  53-M.wav  6-K.wav\n",
            "11-K.wav  19-K.wav  25-M.wav  32-K.wav\t39-M.wav  47-K.wav  54-K.wav  6-M.wav\n",
            "11-M.wav  19-M.wav  26-K.wav  32-M.wav\t3-K.wav   48-K.wav  55-K.wav  7-K.wav\n",
            "12-K.wav  1-K.wav   26-M.wav  33-K.wav\t3-M.wav   48-M.wav  55-M.wav  7-M.wav\n",
            "13-K.wav  1-M.wav   27-K.wav  33-M.wav\t40-K.wav  49-K.wav  56-K.wav  8-K.wav\n",
            "13-M.wav  20-K.wav  27-M.wav  34-K.wav\t41-K.wav  49-M.wav  56-M.wav  8-M.wav\n",
            "14-K.wav  20-M.wav  28-K.wav  34-M.wav\t42-K.wav  4-K.wav   57-K.wav  9-K.wav\n",
            "14-M.wav  21-K.wav  28-M.wav  35-K.wav\t42-M.wav  4-M.wav   57-M.wav  9-M.wav\n",
            "15-K.wav  21-M.wav  29-K.wav  35-M.wav\t43-K.wav  50-K.wav  58-K.wav\n",
            "15-M.wav  22-K.wav  29-M.wav  36-K.wav\t43-M.wav  50-M.wav  58-M.wav\n",
            "16-K.wav  22-M.wav  2-K.wav   36-M.wav\t44-K.wav  51-K.wav  59-K.wav\n",
            "16-M.wav  23-K.wav  2-M.wav   37-K.wav\t44-M.wav  51-M.wav  5-K.wav\n",
            "17-K.wav  23-M.wav  30-K.wav  37-M.wav\t45-K.wav  52-K.wav  5-M.wav\n",
            "17-M.wav  24-K.wav  30-M.wav  38-K.wav\t45-M.wav  52-M.wav  60-K.wav\n"
          ]
        }
      ],
      "source": [
        "root = '/content/drive/MyDrive/Studia/PUM/Projekt_1/audio_records/Train_new'\n",
        "os.chdir(root)\n",
        "!ls"
      ]
    },
    {
      "cell_type": "markdown",
      "metadata": {
        "id": "BJoU9Kxd5tnX"
      },
      "source": [
        "Wczytujemy pliki za pomocą biblioteki librosa oraz wyciągamy z nich mfcc. Posłuży nam ono do trenowania modelu oraz dalszej klasyfikacji próbek głosowych ze względy na płeć. Przypisujemy poszczególne próbki do odpowiednich labeli dzieląc je na 'MALE' - męskie oraz 'FEMALE' - damskie, ponieważ tylko takie nagrania wzięliśmy do naszych testów. Na samym końcu zamieniami zwykłą tablicę na numpy array oraz printujemy rezultat.\n"
      ]
    },
    {
      "cell_type": "code",
      "execution_count": null,
      "metadata": {
        "colab": {
          "base_uri": "https://localhost:8080/"
        },
        "id": "UjpeLDrmpycH",
        "outputId": "782c512b-286d-43f1-97cc-63e7c7b811a4"
      },
      "outputs": [
        {
          "name": "stdout",
          "output_type": "stream",
          "text": [
            "['male' 'male' 'male' 'male' 'male' 'male' 'male' 'male' 'male' 'male'\n",
            " 'male' 'male' 'male' 'male' 'male' 'male' 'male' 'male' 'male' 'male'\n",
            " 'male' 'male' 'male' 'male' 'male' 'male' 'male' 'male' 'male' 'female'\n",
            " 'female' 'female' 'female' 'female' 'female' 'female' 'female' 'female'\n",
            " 'female' 'female' 'female' 'female' 'female' 'female' 'female' 'female'\n",
            " 'female' 'female' 'female' 'female' 'female' 'female' 'female' 'female'\n",
            " 'female' 'female' 'female' 'female' 'female' 'female' 'male' 'female'\n",
            " 'male' 'female' 'male' 'female' 'male' 'female' 'male' 'female' 'male'\n",
            " 'female' 'male' 'female' 'male' 'female' 'male' 'female' 'female'\n",
            " 'female' 'male' 'female' 'male' 'female' 'male' 'female' 'male' 'female'\n",
            " 'male' 'female' 'female' 'male' 'female' 'male' 'female' 'male' 'female'\n",
            " 'male' 'female' 'male' 'female' 'male' 'female' 'female' 'male' 'female'\n",
            " 'male' 'female' 'male' 'female' 'male' 'female' 'female' 'male']\n",
            "[22050, 22050, 22050, 22050, 22050, 22050, 22050, 22050, 22050, 22050, 22050, 22050, 22050, 22050, 22050, 22050, 22050, 22050, 22050, 22050, 22050, 22050, 22050, 22050, 22050, 22050, 22050, 22050, 22050, 22050, 22050, 22050, 22050, 22050, 22050, 22050, 22050, 22050, 22050, 22050, 22050, 22050, 22050, 22050, 22050, 22050, 22050, 22050, 22050, 22050, 22050, 22050, 22050, 22050, 22050, 22050, 22050, 22050, 22050, 22050, 22050, 22050, 22050, 22050, 22050, 22050, 22050, 22050, 22050, 22050, 22050, 22050, 22050, 22050, 22050, 22050, 22050, 22050, 22050, 22050, 22050, 22050, 22050, 22050, 22050, 22050, 22050, 22050, 22050, 22050, 22050, 22050, 22050, 22050, 22050, 22050, 22050, 22050, 22050, 22050, 22050, 22050, 22050, 22050, 22050, 22050, 22050, 22050, 22050, 22050, 22050, 22050, 22050, 22050]\n"
          ]
        }
      ],
      "source": [
        "my_path = '/content/drive/MyDrive/Studia/PUM/Projekt_1/audio_records/Train_new'\n",
        "filenames = list(os.listdir('/content/drive/MyDrive/Studia/PUM/Projekt_1/audio_records/Train_new'))\n",
        "signals = []\n",
        "signals_features = []\n",
        "labels = []\n",
        "signals_sr = []\n",
        "\n",
        "for file in filenames:\n",
        "  y, sr = librosa.load(my_path + file)\n",
        "  signals.append(y)\n",
        "  signals_sr.append(sr)\n",
        "  features = librosa.feature.mfcc(y=y, sr=sr)\n",
        "  signals_features.append(features)\n",
        "\n",
        "for i in filenames:\n",
        "  if i.endswith('K.wav'):\n",
        "    label = 'female'\n",
        "    labels.append(label)\n",
        "  else:\n",
        "    label2 = 'male'\n",
        "    labels.append(label2)\n",
        "labels = np.asarray(labels)\n",
        "print(labels)\n",
        "print(signals_sr)"
      ]
    },
    {
      "cell_type": "markdown",
      "metadata": {
        "id": "660sKpiz8LOX"
      },
      "source": [
        "Do dalszej analizy musimy zredukować ilość wymiarów (kolumn), gdyż nasze dane są zbyt duże, przycinamy do najkrótszego sygnału w zbiorze.\n"
      ]
    },
    {
      "cell_type": "code",
      "execution_count": null,
      "metadata": {
        "colab": {
          "base_uri": "https://localhost:8080/"
        },
        "id": "b4Er8Im8544e",
        "outputId": "f400b591-6ea8-4bad-d78d-ccf355b6938b"
      },
      "outputs": [
        {
          "name": "stdout",
          "output_type": "stream",
          "text": [
            "[[[-8.9391071e+02 -8.0411566e+02 -7.5686871e+02 ... -5.8545990e+02\n",
            "   -6.0454822e+02 -6.2532410e+02]\n",
            "  [ 2.0429615e+01  5.6435802e+01  5.4652687e+01 ...  1.3960185e+02\n",
            "    1.4125726e+02  1.3483286e+02]\n",
            "  [ 1.1755767e+01  1.4196796e+01  1.0364038e+01 ...  1.8036135e+01\n",
            "    4.1041332e+01  5.1838280e+01]\n",
            "  ...\n",
            "  [-5.3576249e-01  3.9651761e+00  1.9839107e+00 ... -1.0019259e+01\n",
            "   -1.2187065e+01 -3.0253305e+00]\n",
            "  [ 3.4214586e-01 -5.0952425e+00 -6.2804031e+00 ... -1.7226059e+01\n",
            "   -1.4356705e+01 -9.5441866e+00]\n",
            "  [ 4.1077542e-01 -2.6449490e+00  1.1150435e+00 ... -1.0895115e+01\n",
            "   -7.1181397e+00 -4.8545251e+00]]\n",
            "\n",
            " [[-5.5536304e+02 -5.5536304e+02 -4.6248270e+02 ... -1.6646568e+02\n",
            "   -1.7052443e+02 -1.6933832e+02]\n",
            "  [ 0.0000000e+00  0.0000000e+00  8.5785400e+01 ...  9.1913605e+01\n",
            "    7.8367065e+01  7.9893005e+01]\n",
            "  [ 0.0000000e+00  0.0000000e+00  1.0671921e+01 ...  2.6426052e+01\n",
            "    3.0733185e+01  3.3040108e+01]\n",
            "  ...\n",
            "  [ 0.0000000e+00  0.0000000e+00 -9.0938673e+00 ...  7.9309669e+00\n",
            "    5.9674377e+00  7.8446035e+00]\n",
            "  [ 0.0000000e+00  0.0000000e+00  1.0616648e+00 ... -5.8232212e+00\n",
            "   -5.1179132e+00 -6.3741012e+00]\n",
            "  [ 0.0000000e+00  0.0000000e+00 -6.1988344e+00 ...  5.8547306e+00\n",
            "    5.0765543e+00  4.9991894e+00]]\n",
            "\n",
            " [[-5.2337347e+02 -5.2337347e+02 -5.2119434e+02 ... -2.6403549e+02\n",
            "   -2.9846332e+02 -2.8116431e+02]\n",
            "  [ 0.0000000e+00  0.0000000e+00 -2.1322794e+00 ...  1.1943307e+02\n",
            "    1.0521590e+02  7.9443291e+01]\n",
            "  [ 0.0000000e+00  0.0000000e+00 -1.2928312e-01 ... -3.2630983e-01\n",
            "    1.5705780e+00 -1.3481791e+01]\n",
            "  ...\n",
            "  [ 0.0000000e+00  0.0000000e+00 -1.1772226e+00 ...  1.2831779e+00\n",
            "    5.1937108e+00 -2.6685672e+00]\n",
            "  [ 0.0000000e+00  0.0000000e+00 -1.0264316e+00 ... -1.1390190e+01\n",
            "   -3.1733365e+00 -1.1581512e+01]\n",
            "  [ 0.0000000e+00  0.0000000e+00  2.5565186e+00 ...  4.0336986e+00\n",
            "   -1.5368321e+00  5.2236567e+00]]\n",
            "\n",
            " ...\n",
            "\n",
            " [[-6.1537097e+02 -5.9655090e+02 -5.8500079e+02 ... -3.8394058e+02\n",
            "   -3.8779126e+02 -3.4183279e+02]\n",
            "  [ 2.3062158e-01  1.9173967e+01  2.9935486e+01 ...  1.7086374e+02\n",
            "    1.6696130e+02  1.7508051e+02]\n",
            "  [ 2.2549507e-01  8.4522886e+00  9.6934032e+00 ... -1.2931862e+01\n",
            "   -6.5056591e+00 -1.6895380e+01]\n",
            "  ...\n",
            "  [-9.7435310e-02  1.1178522e+00 -7.0913792e-01 ... -7.9988031e+00\n",
            "    3.0007005e+00 -1.1056449e+00]\n",
            "  [-1.1879353e-01 -1.2304877e+00 -1.6048844e+00 ... -1.3045811e+01\n",
            "   -1.5072485e+01 -1.6228363e+01]\n",
            "  [-1.3797094e-01 -2.9317272e+00 -1.9107949e+00 ... -5.2378001e+00\n",
            "   -1.3080317e+01 -1.2164439e+00]]\n",
            "\n",
            " [[-6.5333582e+02 -6.5333582e+02 -6.2498749e+02 ... -2.6211490e+02\n",
            "   -2.9516791e+02 -3.5240317e+02]\n",
            "  [ 0.0000000e+00  0.0000000e+00  3.0506903e+01 ... -3.1520754e+01\n",
            "    4.3752375e+00  5.4321709e+01]\n",
            "  [ 0.0000000e+00  0.0000000e+00  1.5047327e+01 ...  9.1092288e-02\n",
            "   -2.6832533e-01  3.5598555e+00]\n",
            "  ...\n",
            "  [ 0.0000000e+00  0.0000000e+00 -5.8455782e+00 ... -2.2672994e+00\n",
            "   -4.2340460e+00 -1.7393616e+00]\n",
            "  [ 0.0000000e+00  0.0000000e+00 -8.2675200e+00 ... -3.1398678e+01\n",
            "   -3.0215206e+01 -2.1467819e+01]\n",
            "  [ 0.0000000e+00  0.0000000e+00 -8.5448685e+00 ... -1.1117221e+01\n",
            "   -8.9809799e+00 -1.0369265e+01]]\n",
            "\n",
            " [[-5.4814453e+02 -5.3938092e+02 -5.2264539e+02 ... -1.6392889e+02\n",
            "   -1.2424959e+02 -1.2600926e+02]\n",
            "  [ 0.0000000e+00  8.5091391e+00  2.6040432e+01 ...  1.6158777e+02\n",
            "    1.7099738e+02  1.7369405e+02]\n",
            "  [ 0.0000000e+00 -1.4411363e-01  4.1611185e+00 ... -7.2967186e+01\n",
            "   -8.8595879e+01 -8.2900948e+01]\n",
            "  ...\n",
            "  [ 0.0000000e+00  5.3404760e+00  6.7512064e+00 ... -3.0743799e+00\n",
            "   -4.1677251e+00 -1.0838827e+00]\n",
            "  [ 0.0000000e+00  6.0230861e+00  8.6362457e+00 ... -1.8413223e+01\n",
            "   -1.2105617e+01 -1.8838041e+00]\n",
            "  [ 0.0000000e+00  2.4746673e+00  5.1345863e+00 ... -1.6007799e+01\n",
            "   -2.1178268e+01 -2.0581295e+01]]]\n"
          ]
        }
      ],
      "source": [
        "# redukcja wymiarowości (kolumn)\n",
        "min_cols = min([np.shape(x)[1] for x in signals_features])\n",
        "\n",
        "for i in range(len(signals_features)):\n",
        "    signals_features[i] = signals_features[i][:, :min_cols]\n",
        "signals_features = np.asarray(signals_features)\n",
        "print(signals_features)"
      ]
    },
    {
      "cell_type": "markdown",
      "metadata": {
        "id": "60fcCQyz9B2D"
      },
      "source": [
        "Teraz sprawdzamy, który z naszych sygnałów jest najdłuższy i wszystkie krótsze od niego dopełniamy zerami, aby ich długość była taka sama. Usuwamy również zbędne data types, które są wyjściowym outputem podczas ładowania za pomocą librosy.\n"
      ]
    },
    {
      "cell_type": "code",
      "execution_count": null,
      "metadata": {
        "colab": {
          "base_uri": "https://localhost:8080/"
        },
        "id": "A-M6iWnTLNWD",
        "outputId": "8a5dd5c5-a820-40c9-caf6-0b1b3ad49176"
      },
      "outputs": [
        {
          "name": "stdout",
          "output_type": "stream",
          "text": [
            "189983\n"
          ]
        }
      ],
      "source": [
        "max_length = max([s.shape[0] for s in signals])\n",
        "signals = [np.pad(s, (0, max_length - s.shape[0]), 'constant') for s in signals]\n",
        "signal_all = []\n",
        "signal_all = np.stack(signals).T\n",
        "print(len(signal_all))"
      ]
    },
    {
      "cell_type": "markdown",
      "metadata": {
        "id": "WZISFH5XQkdJ"
      },
      "source": [
        "# METODA K-SĄSIADÓW"
      ]
    },
    {
      "cell_type": "markdown",
      "metadata": {
        "id": "M2-qF3bx94KC"
      },
      "source": [
        "Standardowo dzielimy nasz zbiór na trenignowy oraz testowy. Wykorzystujemy proporcje 4:1.\n"
      ]
    },
    {
      "cell_type": "code",
      "execution_count": null,
      "metadata": {
        "id": "vVAHFffEzZ3y"
      },
      "outputs": [],
      "source": [
        "X_train, X_test, y_train, y_test = train_test_split(signals_features, labels, test_size=0.2, random_state=42)"
      ]
    },
    {
      "cell_type": "markdown",
      "metadata": {
        "id": "V5aAg4M_-M8V"
      },
      "source": [
        "Potrzebna jest redukcja wymiarowości z 3 do 2, gdyż takie są wymagania dla tworzenia modelu.\n"
      ]
    },
    {
      "cell_type": "code",
      "execution_count": null,
      "metadata": {
        "id": "Gqg84zts9VgL"
      },
      "outputs": [],
      "source": [
        "#X_train\n",
        "nsamples, nx, ny = X_train.shape\n",
        "X_train = X_train.reshape((nsamples,nx*ny))\n",
        "\n",
        "#X_test\n",
        "nsamples, nx, ny = X_test.shape\n",
        "X_test = X_test.reshape((nsamples,nx*ny))"
      ]
    },
    {
      "cell_type": "markdown",
      "metadata": {
        "id": "7nt5fjWjFyij"
      },
      "source": [
        "Tworzenie modelu za pomocą metody K-sąsiadów, dobraliśmy parametr n=3. Następnie trenujemy nasz model. Tak wytrenowany model możemy użyć do predukcji. W naszym pliku jest 116 nagrań, a więc według danych wcześniej danych propropcji powinniśmy otrzymać 23 predykcje.\n"
      ]
    },
    {
      "cell_type": "code",
      "execution_count": null,
      "metadata": {
        "colab": {
          "base_uri": "https://localhost:8080/"
        },
        "id": "oX7hyIg66fgB",
        "outputId": "91f2c632-72a0-4fcd-b915-e39da776115e"
      },
      "outputs": [
        {
          "name": "stdout",
          "output_type": "stream",
          "text": [
            "['male' 'female' 'female' 'female' 'male' 'male' 'male' 'female' 'female'\n",
            " 'male' 'female' 'female' 'female' 'male' 'female' 'female' 'male' 'male'\n",
            " 'female' 'female' 'female' 'male' 'male']\n"
          ]
        }
      ],
      "source": [
        "model = KNeighborsClassifier(n_neighbors=3)\n",
        "model.fit(X_train, y_train)\n",
        "\n",
        "preds = model.predict(X_test)\n",
        "print(preds)"
      ]
    },
    {
      "cell_type": "markdown",
      "metadata": {
        "id": "n8dDVf5jN3BD"
      },
      "source": [
        "Wyliczamy metryki określające skuteczność modelu oraz macierz pomyłek.\n"
      ]
    },
    {
      "cell_type": "code",
      "execution_count": null,
      "metadata": {
        "colab": {
          "base_uri": "https://localhost:8080/",
          "height": 175
        },
        "id": "zTUJqxOxPHY1",
        "outputId": "c5c2338e-f193-4203-a188-348308212628"
      },
      "outputs": [
        {
          "data": {
            "text/html": [
              "\n",
              "  <div id=\"df-f0303996-a9a5-4fa7-b377-86202435c980\">\n",
              "    <div class=\"colab-df-container\">\n",
              "      <div>\n",
              "<style scoped>\n",
              "    .dataframe tbody tr th:only-of-type {\n",
              "        vertical-align: middle;\n",
              "    }\n",
              "\n",
              "    .dataframe tbody tr th {\n",
              "        vertical-align: top;\n",
              "    }\n",
              "\n",
              "    .dataframe thead th {\n",
              "        text-align: right;\n",
              "    }\n",
              "</style>\n",
              "<table border=\"1\" class=\"dataframe\">\n",
              "  <thead>\n",
              "    <tr style=\"text-align: right;\">\n",
              "      <th></th>\n",
              "      <th>values</th>\n",
              "    </tr>\n",
              "  </thead>\n",
              "  <tbody>\n",
              "    <tr>\n",
              "      <th>acc</th>\n",
              "      <td>0.739130</td>\n",
              "    </tr>\n",
              "    <tr>\n",
              "      <th>recall</th>\n",
              "      <td>0.666667</td>\n",
              "    </tr>\n",
              "    <tr>\n",
              "      <th>prec</th>\n",
              "      <td>0.800000</td>\n",
              "    </tr>\n",
              "    <tr>\n",
              "      <th>f1</th>\n",
              "      <td>0.727273</td>\n",
              "    </tr>\n",
              "  </tbody>\n",
              "</table>\n",
              "</div>\n",
              "      <button class=\"colab-df-convert\" onclick=\"convertToInteractive('df-f0303996-a9a5-4fa7-b377-86202435c980')\"\n",
              "              title=\"Convert this dataframe to an interactive table.\"\n",
              "              style=\"display:none;\">\n",
              "        \n",
              "  <svg xmlns=\"http://www.w3.org/2000/svg\" height=\"24px\"viewBox=\"0 0 24 24\"\n",
              "       width=\"24px\">\n",
              "    <path d=\"M0 0h24v24H0V0z\" fill=\"none\"/>\n",
              "    <path d=\"M18.56 5.44l.94 2.06.94-2.06 2.06-.94-2.06-.94-.94-2.06-.94 2.06-2.06.94zm-11 1L8.5 8.5l.94-2.06 2.06-.94-2.06-.94L8.5 2.5l-.94 2.06-2.06.94zm10 10l.94 2.06.94-2.06 2.06-.94-2.06-.94-.94-2.06-.94 2.06-2.06.94z\"/><path d=\"M17.41 7.96l-1.37-1.37c-.4-.4-.92-.59-1.43-.59-.52 0-1.04.2-1.43.59L10.3 9.45l-7.72 7.72c-.78.78-.78 2.05 0 2.83L4 21.41c.39.39.9.59 1.41.59.51 0 1.02-.2 1.41-.59l7.78-7.78 2.81-2.81c.8-.78.8-2.07 0-2.86zM5.41 20L4 18.59l7.72-7.72 1.47 1.35L5.41 20z\"/>\n",
              "  </svg>\n",
              "      </button>\n",
              "      \n",
              "  <style>\n",
              "    .colab-df-container {\n",
              "      display:flex;\n",
              "      flex-wrap:wrap;\n",
              "      gap: 12px;\n",
              "    }\n",
              "\n",
              "    .colab-df-convert {\n",
              "      background-color: #E8F0FE;\n",
              "      border: none;\n",
              "      border-radius: 50%;\n",
              "      cursor: pointer;\n",
              "      display: none;\n",
              "      fill: #1967D2;\n",
              "      height: 32px;\n",
              "      padding: 0 0 0 0;\n",
              "      width: 32px;\n",
              "    }\n",
              "\n",
              "    .colab-df-convert:hover {\n",
              "      background-color: #E2EBFA;\n",
              "      box-shadow: 0px 1px 2px rgba(60, 64, 67, 0.3), 0px 1px 3px 1px rgba(60, 64, 67, 0.15);\n",
              "      fill: #174EA6;\n",
              "    }\n",
              "\n",
              "    [theme=dark] .colab-df-convert {\n",
              "      background-color: #3B4455;\n",
              "      fill: #D2E3FC;\n",
              "    }\n",
              "\n",
              "    [theme=dark] .colab-df-convert:hover {\n",
              "      background-color: #434B5C;\n",
              "      box-shadow: 0px 1px 3px 1px rgba(0, 0, 0, 0.15);\n",
              "      filter: drop-shadow(0px 1px 2px rgba(0, 0, 0, 0.3));\n",
              "      fill: #FFFFFF;\n",
              "    }\n",
              "  </style>\n",
              "\n",
              "      <script>\n",
              "        const buttonEl =\n",
              "          document.querySelector('#df-f0303996-a9a5-4fa7-b377-86202435c980 button.colab-df-convert');\n",
              "        buttonEl.style.display =\n",
              "          google.colab.kernel.accessAllowed ? 'block' : 'none';\n",
              "\n",
              "        async function convertToInteractive(key) {\n",
              "          const element = document.querySelector('#df-f0303996-a9a5-4fa7-b377-86202435c980');\n",
              "          const dataTable =\n",
              "            await google.colab.kernel.invokeFunction('convertToInteractive',\n",
              "                                                     [key], {});\n",
              "          if (!dataTable) return;\n",
              "\n",
              "          const docLinkHtml = 'Like what you see? Visit the ' +\n",
              "            '<a target=\"_blank\" href=https://colab.research.google.com/notebooks/data_table.ipynb>data table notebook</a>'\n",
              "            + ' to learn more about interactive tables.';\n",
              "          element.innerHTML = '';\n",
              "          dataTable['output_type'] = 'display_data';\n",
              "          await google.colab.output.renderOutput(dataTable, element);\n",
              "          const docLink = document.createElement('div');\n",
              "          docLink.innerHTML = docLinkHtml;\n",
              "          element.appendChild(docLink);\n",
              "        }\n",
              "      </script>\n",
              "    </div>\n",
              "  </div>\n",
              "  "
            ],
            "text/plain": [
              "          values\n",
              "acc     0.739130\n",
              "recall  0.666667\n",
              "prec    0.800000\n",
              "f1      0.727273"
            ]
          },
          "execution_count": 15,
          "metadata": {},
          "output_type": "execute_result"
        }
      ],
      "source": [
        "accuracy = accuracy_score(y_test, preds)\n",
        "recall = recall_score(y_test, preds, pos_label='male')\n",
        "precision = precision_score(y_test, preds, pos_label='male')\n",
        "f1 = f1_score(y_test, preds, pos_label='male')\n",
        "pd.DataFrame([accuracy,recall,precision,f1],['acc','recall','prec','f1'],columns=['values'])"
      ]
    },
    {
      "cell_type": "code",
      "execution_count": null,
      "metadata": {
        "colab": {
          "base_uri": "https://localhost:8080/",
          "height": 129
        },
        "id": "Tgu47IprPmEe",
        "outputId": "3c44bd77-280b-460d-da7a-596365c70836"
      },
      "outputs": [
        {
          "name": "stdout",
          "output_type": "stream",
          "text": [
            "TN =  9  FP =  2  FN =  4  TP =  8\n"
          ]
        },
        {
          "data": {
            "text/html": [
              "\n",
              "  <div id=\"df-7b30aa38-5349-48ed-90e6-05001427fd39\">\n",
              "    <div class=\"colab-df-container\">\n",
              "      <div>\n",
              "<style scoped>\n",
              "    .dataframe tbody tr th:only-of-type {\n",
              "        vertical-align: middle;\n",
              "    }\n",
              "\n",
              "    .dataframe tbody tr th {\n",
              "        vertical-align: top;\n",
              "    }\n",
              "\n",
              "    .dataframe thead th {\n",
              "        text-align: right;\n",
              "    }\n",
              "</style>\n",
              "<table border=\"1\" class=\"dataframe\">\n",
              "  <thead>\n",
              "    <tr style=\"text-align: right;\">\n",
              "      <th></th>\n",
              "      <th>1</th>\n",
              "      <th>0</th>\n",
              "    </tr>\n",
              "  </thead>\n",
              "  <tbody>\n",
              "    <tr>\n",
              "      <th>1</th>\n",
              "      <td>9</td>\n",
              "      <td>2</td>\n",
              "    </tr>\n",
              "    <tr>\n",
              "      <th>0</th>\n",
              "      <td>4</td>\n",
              "      <td>8</td>\n",
              "    </tr>\n",
              "  </tbody>\n",
              "</table>\n",
              "</div>\n",
              "      <button class=\"colab-df-convert\" onclick=\"convertToInteractive('df-7b30aa38-5349-48ed-90e6-05001427fd39')\"\n",
              "              title=\"Convert this dataframe to an interactive table.\"\n",
              "              style=\"display:none;\">\n",
              "        \n",
              "  <svg xmlns=\"http://www.w3.org/2000/svg\" height=\"24px\"viewBox=\"0 0 24 24\"\n",
              "       width=\"24px\">\n",
              "    <path d=\"M0 0h24v24H0V0z\" fill=\"none\"/>\n",
              "    <path d=\"M18.56 5.44l.94 2.06.94-2.06 2.06-.94-2.06-.94-.94-2.06-.94 2.06-2.06.94zm-11 1L8.5 8.5l.94-2.06 2.06-.94-2.06-.94L8.5 2.5l-.94 2.06-2.06.94zm10 10l.94 2.06.94-2.06 2.06-.94-2.06-.94-.94-2.06-.94 2.06-2.06.94z\"/><path d=\"M17.41 7.96l-1.37-1.37c-.4-.4-.92-.59-1.43-.59-.52 0-1.04.2-1.43.59L10.3 9.45l-7.72 7.72c-.78.78-.78 2.05 0 2.83L4 21.41c.39.39.9.59 1.41.59.51 0 1.02-.2 1.41-.59l7.78-7.78 2.81-2.81c.8-.78.8-2.07 0-2.86zM5.41 20L4 18.59l7.72-7.72 1.47 1.35L5.41 20z\"/>\n",
              "  </svg>\n",
              "      </button>\n",
              "      \n",
              "  <style>\n",
              "    .colab-df-container {\n",
              "      display:flex;\n",
              "      flex-wrap:wrap;\n",
              "      gap: 12px;\n",
              "    }\n",
              "\n",
              "    .colab-df-convert {\n",
              "      background-color: #E8F0FE;\n",
              "      border: none;\n",
              "      border-radius: 50%;\n",
              "      cursor: pointer;\n",
              "      display: none;\n",
              "      fill: #1967D2;\n",
              "      height: 32px;\n",
              "      padding: 0 0 0 0;\n",
              "      width: 32px;\n",
              "    }\n",
              "\n",
              "    .colab-df-convert:hover {\n",
              "      background-color: #E2EBFA;\n",
              "      box-shadow: 0px 1px 2px rgba(60, 64, 67, 0.3), 0px 1px 3px 1px rgba(60, 64, 67, 0.15);\n",
              "      fill: #174EA6;\n",
              "    }\n",
              "\n",
              "    [theme=dark] .colab-df-convert {\n",
              "      background-color: #3B4455;\n",
              "      fill: #D2E3FC;\n",
              "    }\n",
              "\n",
              "    [theme=dark] .colab-df-convert:hover {\n",
              "      background-color: #434B5C;\n",
              "      box-shadow: 0px 1px 3px 1px rgba(0, 0, 0, 0.15);\n",
              "      filter: drop-shadow(0px 1px 2px rgba(0, 0, 0, 0.3));\n",
              "      fill: #FFFFFF;\n",
              "    }\n",
              "  </style>\n",
              "\n",
              "      <script>\n",
              "        const buttonEl =\n",
              "          document.querySelector('#df-7b30aa38-5349-48ed-90e6-05001427fd39 button.colab-df-convert');\n",
              "        buttonEl.style.display =\n",
              "          google.colab.kernel.accessAllowed ? 'block' : 'none';\n",
              "\n",
              "        async function convertToInteractive(key) {\n",
              "          const element = document.querySelector('#df-7b30aa38-5349-48ed-90e6-05001427fd39');\n",
              "          const dataTable =\n",
              "            await google.colab.kernel.invokeFunction('convertToInteractive',\n",
              "                                                     [key], {});\n",
              "          if (!dataTable) return;\n",
              "\n",
              "          const docLinkHtml = 'Like what you see? Visit the ' +\n",
              "            '<a target=\"_blank\" href=https://colab.research.google.com/notebooks/data_table.ipynb>data table notebook</a>'\n",
              "            + ' to learn more about interactive tables.';\n",
              "          element.innerHTML = '';\n",
              "          dataTable['output_type'] = 'display_data';\n",
              "          await google.colab.output.renderOutput(dataTable, element);\n",
              "          const docLink = document.createElement('div');\n",
              "          docLink.innerHTML = docLinkHtml;\n",
              "          element.appendChild(docLink);\n",
              "        }\n",
              "      </script>\n",
              "    </div>\n",
              "  </div>\n",
              "  "
            ],
            "text/plain": [
              "   1  0\n",
              "1  9  2\n",
              "0  4  8"
            ]
          },
          "execution_count": 16,
          "metadata": {},
          "output_type": "execute_result"
        }
      ],
      "source": [
        "tn, fp, fn, tp = confusion_matrix(y_test, preds).ravel()\n",
        "print('TN = ', tn, ' FP = ', fp, ' FN = ', fn, ' TP = ', tp)\n",
        "data = confusion_matrix(y_test, preds)\n",
        "pd.DataFrame(data,['1','0'],['1','0'])"
      ]
    },
    {
      "cell_type": "markdown",
      "metadata": {
        "id": "q9pqL_9lHXZq"
      },
      "source": [
        "#**SVM**"
      ]
    },
    {
      "cell_type": "markdown",
      "metadata": {
        "id": "R3UxigM8RZIh"
      },
      "source": [
        "Podział na zbiory"
      ]
    },
    {
      "cell_type": "code",
      "execution_count": null,
      "metadata": {
        "id": "51F3CF_rHaPJ"
      },
      "outputs": [],
      "source": [
        "X_train, X_test, y_train, y_test = train_test_split(signals_features, labels, stratify=labels, random_state=42)"
      ]
    },
    {
      "cell_type": "code",
      "execution_count": null,
      "metadata": {
        "id": "ijPSUDpnILzM"
      },
      "outputs": [],
      "source": [
        "#X_train\n",
        "nsamples, nx, ny = X_train.shape\n",
        "X_train = X_train.reshape((nsamples,nx*ny))\n",
        "\n",
        "#X_test\n",
        "nsamples, nx, ny = X_test.shape\n",
        "X_test = X_test.reshape((nsamples,nx*ny))"
      ]
    },
    {
      "cell_type": "markdown",
      "metadata": {
        "id": "aAfFkyFKRuJw"
      },
      "source": [
        "Standaryzacja danych"
      ]
    },
    {
      "cell_type": "code",
      "execution_count": null,
      "metadata": {
        "id": "wDItYH-bIBez"
      },
      "outputs": [],
      "source": [
        "scaler = StandardScaler().fit(X_train)\n",
        "X_train_scaled = scaler.transform(X_train)\n",
        "X_test_scaled = scaler.transform(X_test)"
      ]
    },
    {
      "cell_type": "code",
      "execution_count": null,
      "metadata": {
        "colab": {
          "base_uri": "https://localhost:8080/"
        },
        "id": "LJBgirCAI5Dc",
        "outputId": "0f607000-12bd-45ef-d36c-c90d6fa98573"
      },
      "outputs": [
        {
          "data": {
            "text/plain": [
              "SVC(random_state=42)"
            ]
          },
          "execution_count": 20,
          "metadata": {},
          "output_type": "execute_result"
        }
      ],
      "source": [
        "SVM = SVC(C=1.0, random_state=42)\n",
        "SVM.fit(X_train, y_train)"
      ]
    },
    {
      "cell_type": "markdown",
      "metadata": {
        "id": "Pc-ar7RTSil9"
      },
      "source": [
        "Liczymy, ile jest obiektów w każdej klasie w zbiorze testowym, aby sprawdzić jakie mamy dysproporcje. Dzięki temu jesteśmy w stanie dobrać odpowiednią metodę liczenia metryk."
      ]
    },
    {
      "cell_type": "code",
      "execution_count": null,
      "metadata": {
        "colab": {
          "base_uri": "https://localhost:8080/",
          "height": 282
        },
        "id": "5BluZ_UVJuhu",
        "outputId": "fb5f7ce0-1973-4141-dd84-78e35455fc78"
      },
      "outputs": [
        {
          "data": {
            "text/plain": [
              "<BarContainer object of 2 artists>"
            ]
          },
          "execution_count": 21,
          "metadata": {},
          "output_type": "execute_result"
        },
        {
          "data": {
            "image/png": "[encoded data removed]",
            "text/plain": [
              "<Figure size 432x288 with 1 Axes>"
            ]
          },
          "metadata": {
            "needs_background": "light"
          },
          "output_type": "display_data"
        }
      ],
      "source": [
        "counter_ytest = Counter(y_test)\n",
        "plt.bar(counter_ytest.keys(), counter_ytest.values())"
      ]
    },
    {
      "cell_type": "markdown",
      "metadata": {
        "id": "BGkl8x3xKFcD"
      },
      "source": [
        "Nasze klasy są deliklatnie nierównoliczne, a więc użyjemy średniej ważonej. \n",
        "\n"
      ]
    },
    {
      "cell_type": "code",
      "execution_count": null,
      "metadata": {
        "colab": {
          "base_uri": "https://localhost:8080/",
          "height": 175
        },
        "id": "sCCo4xhGKKpP",
        "outputId": "ce410fbe-a11f-4af5-8b40-ed01aaa7a740"
      },
      "outputs": [
        {
          "data": {
            "text/html": [
              "\n",
              "  <div id=\"df-9a4b578c-2d19-4bdd-a75d-2a34dae9f109\">\n",
              "    <div class=\"colab-df-container\">\n",
              "      <div>\n",
              "<style scoped>\n",
              "    .dataframe tbody tr th:only-of-type {\n",
              "        vertical-align: middle;\n",
              "    }\n",
              "\n",
              "    .dataframe tbody tr th {\n",
              "        vertical-align: top;\n",
              "    }\n",
              "\n",
              "    .dataframe thead th {\n",
              "        text-align: right;\n",
              "    }\n",
              "</style>\n",
              "<table border=\"1\" class=\"dataframe\">\n",
              "  <thead>\n",
              "    <tr style=\"text-align: right;\">\n",
              "      <th></th>\n",
              "      <th>values</th>\n",
              "    </tr>\n",
              "  </thead>\n",
              "  <tbody>\n",
              "    <tr>\n",
              "      <th>acc</th>\n",
              "      <td>0.482759</td>\n",
              "    </tr>\n",
              "    <tr>\n",
              "      <th>recall</th>\n",
              "      <td>0.482759</td>\n",
              "    </tr>\n",
              "    <tr>\n",
              "      <th>prec</th>\n",
              "      <td>0.233056</td>\n",
              "    </tr>\n",
              "    <tr>\n",
              "      <th>f1</th>\n",
              "      <td>0.314354</td>\n",
              "    </tr>\n",
              "  </tbody>\n",
              "</table>\n",
              "</div>\n",
              "      <button class=\"colab-df-convert\" onclick=\"convertToInteractive('df-9a4b578c-2d19-4bdd-a75d-2a34dae9f109')\"\n",
              "              title=\"Convert this dataframe to an interactive table.\"\n",
              "              style=\"display:none;\">\n",
              "        \n",
              "  <svg xmlns=\"http://www.w3.org/2000/svg\" height=\"24px\"viewBox=\"0 0 24 24\"\n",
              "       width=\"24px\">\n",
              "    <path d=\"M0 0h24v24H0V0z\" fill=\"none\"/>\n",
              "    <path d=\"M18.56 5.44l.94 2.06.94-2.06 2.06-.94-2.06-.94-.94-2.06-.94 2.06-2.06.94zm-11 1L8.5 8.5l.94-2.06 2.06-.94-2.06-.94L8.5 2.5l-.94 2.06-2.06.94zm10 10l.94 2.06.94-2.06 2.06-.94-2.06-.94-.94-2.06-.94 2.06-2.06.94z\"/><path d=\"M17.41 7.96l-1.37-1.37c-.4-.4-.92-.59-1.43-.59-.52 0-1.04.2-1.43.59L10.3 9.45l-7.72 7.72c-.78.78-.78 2.05 0 2.83L4 21.41c.39.39.9.59 1.41.59.51 0 1.02-.2 1.41-.59l7.78-7.78 2.81-2.81c.8-.78.8-2.07 0-2.86zM5.41 20L4 18.59l7.72-7.72 1.47 1.35L5.41 20z\"/>\n",
              "  </svg>\n",
              "      </button>\n",
              "      \n",
              "  <style>\n",
              "    .colab-df-container {\n",
              "      display:flex;\n",
              "      flex-wrap:wrap;\n",
              "      gap: 12px;\n",
              "    }\n",
              "\n",
              "    .colab-df-convert {\n",
              "      background-color: #E8F0FE;\n",
              "      border: none;\n",
              "      border-radius: 50%;\n",
              "      cursor: pointer;\n",
              "      display: none;\n",
              "      fill: #1967D2;\n",
              "      height: 32px;\n",
              "      padding: 0 0 0 0;\n",
              "      width: 32px;\n",
              "    }\n",
              "\n",
              "    .colab-df-convert:hover {\n",
              "      background-color: #E2EBFA;\n",
              "      box-shadow: 0px 1px 2px rgba(60, 64, 67, 0.3), 0px 1px 3px 1px rgba(60, 64, 67, 0.15);\n",
              "      fill: #174EA6;\n",
              "    }\n",
              "\n",
              "    [theme=dark] .colab-df-convert {\n",
              "      background-color: #3B4455;\n",
              "      fill: #D2E3FC;\n",
              "    }\n",
              "\n",
              "    [theme=dark] .colab-df-convert:hover {\n",
              "      background-color: #434B5C;\n",
              "      box-shadow: 0px 1px 3px 1px rgba(0, 0, 0, 0.15);\n",
              "      filter: drop-shadow(0px 1px 2px rgba(0, 0, 0, 0.3));\n",
              "      fill: #FFFFFF;\n",
              "    }\n",
              "  </style>\n",
              "\n",
              "      <script>\n",
              "        const buttonEl =\n",
              "          document.querySelector('#df-9a4b578c-2d19-4bdd-a75d-2a34dae9f109 button.colab-df-convert');\n",
              "        buttonEl.style.display =\n",
              "          google.colab.kernel.accessAllowed ? 'block' : 'none';\n",
              "\n",
              "        async function convertToInteractive(key) {\n",
              "          const element = document.querySelector('#df-9a4b578c-2d19-4bdd-a75d-2a34dae9f109');\n",
              "          const dataTable =\n",
              "            await google.colab.kernel.invokeFunction('convertToInteractive',\n",
              "                                                     [key], {});\n",
              "          if (!dataTable) return;\n",
              "\n",
              "          const docLinkHtml = 'Like what you see? Visit the ' +\n",
              "            '<a target=\"_blank\" href=https://colab.research.google.com/notebooks/data_table.ipynb>data table notebook</a>'\n",
              "            + ' to learn more about interactive tables.';\n",
              "          element.innerHTML = '';\n",
              "          dataTable['output_type'] = 'display_data';\n",
              "          await google.colab.output.renderOutput(dataTable, element);\n",
              "          const docLink = document.createElement('div');\n",
              "          docLink.innerHTML = docLinkHtml;\n",
              "          element.appendChild(docLink);\n",
              "        }\n",
              "      </script>\n",
              "    </div>\n",
              "  </div>\n",
              "  "
            ],
            "text/plain": [
              "          values\n",
              "acc     0.482759\n",
              "recall  0.482759\n",
              "prec    0.233056\n",
              "f1      0.314354"
            ]
          },
          "execution_count": 23,
          "metadata": {},
          "output_type": "execute_result"
        }
      ],
      "source": [
        "SVM_test_preds = SVM.predict(X_test_scaled)\n",
        "accuracy = accuracy_score(y_test, SVM_test_preds)\n",
        "recall = recall_score(y_test, SVM_test_preds, average='weighted')\n",
        "precision = precision_score(y_test, SVM_test_preds, average='weighted',zero_division=0)\n",
        "f1 = f1_score(y_test, SVM_test_preds, average='weighted')\n",
        "pd.DataFrame([accuracy,recall,precision,f1],['acc','recall','prec','f1'],columns=['values'])"
      ]
    },
    {
      "cell_type": "code",
      "execution_count": null,
      "metadata": {
        "colab": {
          "base_uri": "https://localhost:8080/",
          "height": 129
        },
        "id": "45fIbhHCUHnN",
        "outputId": "c5798da0-92e7-48c7-c054-11dc05cffa2d"
      },
      "outputs": [
        {
          "name": "stdout",
          "output_type": "stream",
          "text": [
            "TN =  0  FP =  15  FN =  0  TP =  14\n"
          ]
        },
        {
          "data": {
            "text/html": [
              "\n",
              "  <div id=\"df-f5b0dfe7-d919-461d-bc06-2e96d3415e29\">\n",
              "    <div class=\"colab-df-container\">\n",
              "      <div>\n",
              "<style scoped>\n",
              "    .dataframe tbody tr th:only-of-type {\n",
              "        vertical-align: middle;\n",
              "    }\n",
              "\n",
              "    .dataframe tbody tr th {\n",
              "        vertical-align: top;\n",
              "    }\n",
              "\n",
              "    .dataframe thead th {\n",
              "        text-align: right;\n",
              "    }\n",
              "</style>\n",
              "<table border=\"1\" class=\"dataframe\">\n",
              "  <thead>\n",
              "    <tr style=\"text-align: right;\">\n",
              "      <th></th>\n",
              "      <th>1</th>\n",
              "      <th>0</th>\n",
              "    </tr>\n",
              "  </thead>\n",
              "  <tbody>\n",
              "    <tr>\n",
              "      <th>1</th>\n",
              "      <td>0</td>\n",
              "      <td>15</td>\n",
              "    </tr>\n",
              "    <tr>\n",
              "      <th>0</th>\n",
              "      <td>0</td>\n",
              "      <td>14</td>\n",
              "    </tr>\n",
              "  </tbody>\n",
              "</table>\n",
              "</div>\n",
              "      <button class=\"colab-df-convert\" onclick=\"convertToInteractive('df-f5b0dfe7-d919-461d-bc06-2e96d3415e29')\"\n",
              "              title=\"Convert this dataframe to an interactive table.\"\n",
              "              style=\"display:none;\">\n",
              "        \n",
              "  <svg xmlns=\"http://www.w3.org/2000/svg\" height=\"24px\"viewBox=\"0 0 24 24\"\n",
              "       width=\"24px\">\n",
              "    <path d=\"M0 0h24v24H0V0z\" fill=\"none\"/>\n",
              "    <path d=\"M18.56 5.44l.94 2.06.94-2.06 2.06-.94-2.06-.94-.94-2.06-.94 2.06-2.06.94zm-11 1L8.5 8.5l.94-2.06 2.06-.94-2.06-.94L8.5 2.5l-.94 2.06-2.06.94zm10 10l.94 2.06.94-2.06 2.06-.94-2.06-.94-.94-2.06-.94 2.06-2.06.94z\"/><path d=\"M17.41 7.96l-1.37-1.37c-.4-.4-.92-.59-1.43-.59-.52 0-1.04.2-1.43.59L10.3 9.45l-7.72 7.72c-.78.78-.78 2.05 0 2.83L4 21.41c.39.39.9.59 1.41.59.51 0 1.02-.2 1.41-.59l7.78-7.78 2.81-2.81c.8-.78.8-2.07 0-2.86zM5.41 20L4 18.59l7.72-7.72 1.47 1.35L5.41 20z\"/>\n",
              "  </svg>\n",
              "      </button>\n",
              "      \n",
              "  <style>\n",
              "    .colab-df-container {\n",
              "      display:flex;\n",
              "      flex-wrap:wrap;\n",
              "      gap: 12px;\n",
              "    }\n",
              "\n",
              "    .colab-df-convert {\n",
              "      background-color: #E8F0FE;\n",
              "      border: none;\n",
              "      border-radius: 50%;\n",
              "      cursor: pointer;\n",
              "      display: none;\n",
              "      fill: #1967D2;\n",
              "      height: 32px;\n",
              "      padding: 0 0 0 0;\n",
              "      width: 32px;\n",
              "    }\n",
              "\n",
              "    .colab-df-convert:hover {\n",
              "      background-color: #E2EBFA;\n",
              "      box-shadow: 0px 1px 2px rgba(60, 64, 67, 0.3), 0px 1px 3px 1px rgba(60, 64, 67, 0.15);\n",
              "      fill: #174EA6;\n",
              "    }\n",
              "\n",
              "    [theme=dark] .colab-df-convert {\n",
              "      background-color: #3B4455;\n",
              "      fill: #D2E3FC;\n",
              "    }\n",
              "\n",
              "    [theme=dark] .colab-df-convert:hover {\n",
              "      background-color: #434B5C;\n",
              "      box-shadow: 0px 1px 3px 1px rgba(0, 0, 0, 0.15);\n",
              "      filter: drop-shadow(0px 1px 2px rgba(0, 0, 0, 0.3));\n",
              "      fill: #FFFFFF;\n",
              "    }\n",
              "  </style>\n",
              "\n",
              "      <script>\n",
              "        const buttonEl =\n",
              "          document.querySelector('#df-f5b0dfe7-d919-461d-bc06-2e96d3415e29 button.colab-df-convert');\n",
              "        buttonEl.style.display =\n",
              "          google.colab.kernel.accessAllowed ? 'block' : 'none';\n",
              "\n",
              "        async function convertToInteractive(key) {\n",
              "          const element = document.querySelector('#df-f5b0dfe7-d919-461d-bc06-2e96d3415e29');\n",
              "          const dataTable =\n",
              "            await google.colab.kernel.invokeFunction('convertToInteractive',\n",
              "                                                     [key], {});\n",
              "          if (!dataTable) return;\n",
              "\n",
              "          const docLinkHtml = 'Like what you see? Visit the ' +\n",
              "            '<a target=\"_blank\" href=https://colab.research.google.com/notebooks/data_table.ipynb>data table notebook</a>'\n",
              "            + ' to learn more about interactive tables.';\n",
              "          element.innerHTML = '';\n",
              "          dataTable['output_type'] = 'display_data';\n",
              "          await google.colab.output.renderOutput(dataTable, element);\n",
              "          const docLink = document.createElement('div');\n",
              "          docLink.innerHTML = docLinkHtml;\n",
              "          element.appendChild(docLink);\n",
              "        }\n",
              "      </script>\n",
              "    </div>\n",
              "  </div>\n",
              "  "
            ],
            "text/plain": [
              "   1   0\n",
              "1  0  15\n",
              "0  0  14"
            ]
          },
          "execution_count": 24,
          "metadata": {},
          "output_type": "execute_result"
        }
      ],
      "source": [
        "tn, fp, fn, tp = confusion_matrix(y_test, SVM_test_preds).ravel()\n",
        "print('TN = ', tn, ' FP = ', fp, ' FN = ', fn, ' TP = ', tp)\n",
        "data = confusion_matrix(y_test, SVM_test_preds)\n",
        "pd.DataFrame(data,['1','0'],['1','0'])"
      ]
    },
    {
      "cell_type": "markdown",
      "metadata": {
        "id": "OOhcpiqhUSpQ"
      },
      "source": [
        "Widzimy, że nasze wyniki są bardzo słabe, a więc wymagane jest optymalizacja paraemtrów by osiągnąć lepszy rezultat. Optymalizujemy model na początku za pomocą metryki F1, która teoretycznie jest lepszą metryką, bo zawiera w sobie precyzję i czułość. "
      ]
    },
    {
      "cell_type": "code",
      "execution_count": null,
      "metadata": {
        "id": "VvJBHo2qMb2q"
      },
      "outputs": [],
      "source": [
        "SVM = make_pipeline(StandardScaler(), SVC(C=1.0, random_state=42, probability=True))\n",
        "SVM.fit(X_train, y_train)\n",
        "SVM_test_preds = SVM.predict(X_test)\n",
        "SVM_train_preds = SVM.predict(X_train)\n",
        "scoring = {'f1_macro': make_scorer(f1_score, average='macro')}"
      ]
    },
    {
      "cell_type": "markdown",
      "metadata": {
        "id": "GZkvP032VTus"
      },
      "source": [
        "Definujemy pozostałe potrzebne funkcje i zmienne."
      ]
    },
    {
      "cell_type": "code",
      "execution_count": null,
      "metadata": {
        "id": "wJomsO3YMpch"
      },
      "outputs": [],
      "source": [
        "# obiekt\n",
        "def objective(trial, model, get_space, X, y):\n",
        "    model_space = get_space(trial)\n",
        "\n",
        "    mdl = model(**model_space)\n",
        "    scores = cross_validate(mdl, X, y, scoring=scoring, cv=StratifiedKFold(n_splits=5), return_train_score=True)\n",
        "\n",
        "    return np.mean(scores['test_f1_macro'])"
      ]
    },
    {
      "cell_type": "code",
      "execution_count": null,
      "metadata": {
        "id": "iI8yqixtMrN_"
      },
      "outputs": [],
      "source": [
        "# model\n",
        "model = LogisticRegression\n",
        "\n",
        "def get_space(trial): \n",
        "    space = {\"C\": trial.suggest_uniform(\"C\", 0, 1), \n",
        "           'max_iter': trial.suggest_int('max_iter', 100, 400),\n",
        "           \"solver\": trial.suggest_categorical(\"solver\", [\"lbfgs\", \"liblinear\"])}\n",
        "    return space\n",
        "\n",
        "trials = 3"
      ]
    },
    {
      "cell_type": "markdown",
      "metadata": {
        "id": "l603FDd7VgeK"
      },
      "source": [
        "Kod pozwalający obliczenie optymalnych parametrów"
      ]
    },
    {
      "cell_type": "code",
      "execution_count": null,
      "metadata": {
        "colab": {
          "base_uri": "https://localhost:8080/",
          "height": 295,
          "referenced_widgets": [
            "ec601ae67ddc403bb57590c60b0e620b",
            "ddfa81146c89434b8fb20f6307b27b94",
            "4e2777c6c0144479b692dd99c41e9513",
            "55c75d2b349c4c18ba56afb46604370c",
            "f34b6df84fd64167a0f3dc90b122ee88",
            "cca03ca01b61417eb827f4b599f8b87d",
            "c26289368ca346d099028b2576e96206",
            "02b985e74c4a4b12abdcb56cdefa150a",
            "8786d2696a9345e18f03e5a06e1e1c0c",
            "0c88313c8f0f4503b6ddd184b5e65d10",
            "0261236a41324a9c90c9e27547140f2d"
          ]
        },
        "id": "0lB369NxMxfE",
        "outputId": "3a42ea13-ce78-4d55-a688-b3a81b5fb780"
      },
      "outputs": [
        {
          "name": "stderr",
          "output_type": "stream",
          "text": [
            "\u001b[32m[I 2023-01-02 17:59:08,909]\u001b[0m A new study created in memory with name: no-name-b4512641-5d68-4ed9-9b25-5bd62c84f7bf\u001b[0m\n",
            "/usr/local/lib/python3.8/dist-packages/optuna/progress_bar.py:49: ExperimentalWarning: Progress bar is experimental (supported from v1.2.0). The interface can change in the future.\n",
            "  self._init_valid()\n"
          ]
        },
        {
          "data": {
            "application/vnd.jupyter.widget-view+json": {
              "model_id": "ec601ae67ddc403bb57590c60b0e620b",
              "version_major": 2,
              "version_minor": 0
            },
            "text/plain": [
              "  0%|          | 0/3 [00:00<?, ?it/s]"
            ]
          },
          "metadata": {},
          "output_type": "display_data"
        },
        {
          "name": "stderr",
          "output_type": "stream",
          "text": [
            "<ipython-input-27-0badda012dd3>:5: FutureWarning: suggest_uniform has been deprecated in v3.0.0. This feature will be removed in v6.0.0. See https://github.com/optuna/optuna/releases/tag/v3.0.0. Use :func:`~optuna.trial.Trial.suggest_float` instead.\n",
            "  space = {\"C\": trial.suggest_uniform(\"C\", 0, 1),\n",
            "<ipython-input-27-0badda012dd3>:5: FutureWarning: suggest_uniform has been deprecated in v3.0.0. This feature will be removed in v6.0.0. See https://github.com/optuna/optuna/releases/tag/v3.0.0. Use :func:`~optuna.trial.Trial.suggest_float` instead.\n",
            "  space = {\"C\": trial.suggest_uniform(\"C\", 0, 1),\n"
          ]
        },
        {
          "name": "stdout",
          "output_type": "stream",
          "text": [
            "\u001b[32m[I 2023-01-02 17:59:09,079]\u001b[0m Trial 0 finished with value: 0.7830548751214386 and parameters: {'C': 0.2389661484094271, 'max_iter': 220, 'solver': 'lbfgs'}. Best is trial 0 with value: 0.7830548751214386.\u001b[0m\n",
            "\u001b[32m[I 2023-01-02 17:59:09,204]\u001b[0m Trial 1 finished with value: 0.7830548751214386 and parameters: {'C': 0.5220375731244068, 'max_iter': 324, 'solver': 'lbfgs'}. Best is trial 0 with value: 0.7830548751214386.\u001b[0m\n"
          ]
        },
        {
          "name": "stderr",
          "output_type": "stream",
          "text": [
            "<ipython-input-27-0badda012dd3>:5: FutureWarning: suggest_uniform has been deprecated in v3.0.0. This feature will be removed in v6.0.0. See https://github.com/optuna/optuna/releases/tag/v3.0.0. Use :func:`~optuna.trial.Trial.suggest_float` instead.\n",
            "  space = {\"C\": trial.suggest_uniform(\"C\", 0, 1),\n"
          ]
        },
        {
          "name": "stdout",
          "output_type": "stream",
          "text": [
            "\u001b[32m[I 2023-01-02 17:59:09,331]\u001b[0m Trial 2 finished with value: 0.7967545088210722 and parameters: {'C': 0.7995270909950722, 'max_iter': 164, 'solver': 'liblinear'}. Best is trial 2 with value: 0.7967545088210722.\u001b[0m\n",
            "params:  {'C': 0.7995270909950722, 'max_iter': 164, 'solver': 'liblinear'}\n"
          ]
        }
      ],
      "source": [
        "study = optuna.create_study(direction='maximize')\n",
        "study.optimize(lambda x: objective(x, model, get_space, X_train_scaled, y_train), n_trials=trials, show_progress_bar=True)\n",
        "print('params: ', study.best_params)"
      ]
    },
    {
      "cell_type": "markdown",
      "metadata": {
        "id": "HDLp9ICIV4Dq"
      },
      "source": [
        "Tworzymy nowy model, który w teorii powinien działać lepiej."
      ]
    },
    {
      "cell_type": "code",
      "execution_count": null,
      "metadata": {
        "colab": {
          "base_uri": "https://localhost:8080/",
          "height": 147
        },
        "id": "btfEvKCwRbqT",
        "outputId": "8e6655dd-4b35-4396-b499-87103d9673ab"
      },
      "outputs": [
        {
          "name": "stdout",
          "output_type": "stream",
          "text": [
            "f1_score:  0.8605769230769231\n",
            "TN =  11  FP =  4  FN =  0  TP =  14\n"
          ]
        },
        {
          "data": {
            "text/html": [
              "\n",
              "  <div id=\"df-dcd6abdb-c235-48d3-8842-f88bac542274\">\n",
              "    <div class=\"colab-df-container\">\n",
              "      <div>\n",
              "<style scoped>\n",
              "    .dataframe tbody tr th:only-of-type {\n",
              "        vertical-align: middle;\n",
              "    }\n",
              "\n",
              "    .dataframe tbody tr th {\n",
              "        vertical-align: top;\n",
              "    }\n",
              "\n",
              "    .dataframe thead th {\n",
              "        text-align: right;\n",
              "    }\n",
              "</style>\n",
              "<table border=\"1\" class=\"dataframe\">\n",
              "  <thead>\n",
              "    <tr style=\"text-align: right;\">\n",
              "      <th></th>\n",
              "      <th>1</th>\n",
              "      <th>0</th>\n",
              "    </tr>\n",
              "  </thead>\n",
              "  <tbody>\n",
              "    <tr>\n",
              "      <th>1</th>\n",
              "      <td>11</td>\n",
              "      <td>4</td>\n",
              "    </tr>\n",
              "    <tr>\n",
              "      <th>0</th>\n",
              "      <td>0</td>\n",
              "      <td>14</td>\n",
              "    </tr>\n",
              "  </tbody>\n",
              "</table>\n",
              "</div>\n",
              "      <button class=\"colab-df-convert\" onclick=\"convertToInteractive('df-dcd6abdb-c235-48d3-8842-f88bac542274')\"\n",
              "              title=\"Convert this dataframe to an interactive table.\"\n",
              "              style=\"display:none;\">\n",
              "        \n",
              "  <svg xmlns=\"http://www.w3.org/2000/svg\" height=\"24px\"viewBox=\"0 0 24 24\"\n",
              "       width=\"24px\">\n",
              "    <path d=\"M0 0h24v24H0V0z\" fill=\"none\"/>\n",
              "    <path d=\"M18.56 5.44l.94 2.06.94-2.06 2.06-.94-2.06-.94-.94-2.06-.94 2.06-2.06.94zm-11 1L8.5 8.5l.94-2.06 2.06-.94-2.06-.94L8.5 2.5l-.94 2.06-2.06.94zm10 10l.94 2.06.94-2.06 2.06-.94-2.06-.94-.94-2.06-.94 2.06-2.06.94z\"/><path d=\"M17.41 7.96l-1.37-1.37c-.4-.4-.92-.59-1.43-.59-.52 0-1.04.2-1.43.59L10.3 9.45l-7.72 7.72c-.78.78-.78 2.05 0 2.83L4 21.41c.39.39.9.59 1.41.59.51 0 1.02-.2 1.41-.59l7.78-7.78 2.81-2.81c.8-.78.8-2.07 0-2.86zM5.41 20L4 18.59l7.72-7.72 1.47 1.35L5.41 20z\"/>\n",
              "  </svg>\n",
              "      </button>\n",
              "      \n",
              "  <style>\n",
              "    .colab-df-container {\n",
              "      display:flex;\n",
              "      flex-wrap:wrap;\n",
              "      gap: 12px;\n",
              "    }\n",
              "\n",
              "    .colab-df-convert {\n",
              "      background-color: #E8F0FE;\n",
              "      border: none;\n",
              "      border-radius: 50%;\n",
              "      cursor: pointer;\n",
              "      display: none;\n",
              "      fill: #1967D2;\n",
              "      height: 32px;\n",
              "      padding: 0 0 0 0;\n",
              "      width: 32px;\n",
              "    }\n",
              "\n",
              "    .colab-df-convert:hover {\n",
              "      background-color: #E2EBFA;\n",
              "      box-shadow: 0px 1px 2px rgba(60, 64, 67, 0.3), 0px 1px 3px 1px rgba(60, 64, 67, 0.15);\n",
              "      fill: #174EA6;\n",
              "    }\n",
              "\n",
              "    [theme=dark] .colab-df-convert {\n",
              "      background-color: #3B4455;\n",
              "      fill: #D2E3FC;\n",
              "    }\n",
              "\n",
              "    [theme=dark] .colab-df-convert:hover {\n",
              "      background-color: #434B5C;\n",
              "      box-shadow: 0px 1px 3px 1px rgba(0, 0, 0, 0.15);\n",
              "      filter: drop-shadow(0px 1px 2px rgba(0, 0, 0, 0.3));\n",
              "      fill: #FFFFFF;\n",
              "    }\n",
              "  </style>\n",
              "\n",
              "      <script>\n",
              "        const buttonEl =\n",
              "          document.querySelector('#df-dcd6abdb-c235-48d3-8842-f88bac542274 button.colab-df-convert');\n",
              "        buttonEl.style.display =\n",
              "          google.colab.kernel.accessAllowed ? 'block' : 'none';\n",
              "\n",
              "        async function convertToInteractive(key) {\n",
              "          const element = document.querySelector('#df-dcd6abdb-c235-48d3-8842-f88bac542274');\n",
              "          const dataTable =\n",
              "            await google.colab.kernel.invokeFunction('convertToInteractive',\n",
              "                                                     [key], {});\n",
              "          if (!dataTable) return;\n",
              "\n",
              "          const docLinkHtml = 'Like what you see? Visit the ' +\n",
              "            '<a target=\"_blank\" href=https://colab.research.google.com/notebooks/data_table.ipynb>data table notebook</a>'\n",
              "            + ' to learn more about interactive tables.';\n",
              "          element.innerHTML = '';\n",
              "          dataTable['output_type'] = 'display_data';\n",
              "          await google.colab.output.renderOutput(dataTable, element);\n",
              "          const docLink = document.createElement('div');\n",
              "          docLink.innerHTML = docLinkHtml;\n",
              "          element.appendChild(docLink);\n",
              "        }\n",
              "      </script>\n",
              "    </div>\n",
              "  </div>\n",
              "  "
            ],
            "text/plain": [
              "    1   0\n",
              "1  11   4\n",
              "0   0  14"
            ]
          },
          "execution_count": 29,
          "metadata": {},
          "output_type": "execute_result"
        }
      ],
      "source": [
        "lr = model(**study.best_params)\n",
        "lr.fit(X_train_scaled, y_train)\n",
        "preds = lr.predict(X_test_scaled)\n",
        "print('f1_score: ', f1_score(y_test, preds,average='macro'))\n",
        "tn, fp, fn, tp = confusion_matrix(y_test, preds).ravel()\n",
        "print('TN = ', tn, ' FP = ', fp, ' FN = ', fn, ' TP = ', tp)\n",
        "data = confusion_matrix(y_test, preds)\n",
        "pd.DataFrame(data,['1','0'],['1','0'])"
      ]
    },
    {
      "cell_type": "markdown",
      "metadata": {
        "id": "_dEDLeATWS2z"
      },
      "source": [
        "Taki sam zabieg zastosujemy dla metryki accuracu, aby sprawdzić co działa lepiej."
      ]
    },
    {
      "cell_type": "code",
      "execution_count": null,
      "metadata": {
        "id": "LBeJDgzoR66V"
      },
      "outputs": [],
      "source": [
        "SVM = make_pipeline(StandardScaler(), SVC(C=1.0, random_state=42, probability=True))\n",
        "SVM.fit(X_train, y_train)\n",
        "SVM_test_preds = SVM.predict(X_test)\n",
        "SVM_train_preds = SVM.predict(X_train)\n",
        "\n",
        "scoring = {'accuracy': make_scorer(accuracy_score)}\n",
        "\n",
        "def objective(trial, model, get_space, X, y):\n",
        "    model_space = get_space(trial)\n",
        "\n",
        "    mdl = model(**model_space)\n",
        "    scores = cross_validate(mdl, X, y, scoring=scoring, cv=StratifiedKFold(n_splits=5), return_train_score=True)\n",
        "\n",
        "    return np.mean(scores['test_accuracy'])"
      ]
    },
    {
      "cell_type": "code",
      "execution_count": null,
      "metadata": {
        "id": "zf4iERrbT_NY"
      },
      "outputs": [],
      "source": [
        "model = LogisticRegression\n",
        "def get_space(trial): \n",
        "    space = {\"C\": trial.suggest_uniform(\"C\", 0, 1), \n",
        "           'max_iter': trial.suggest_int('max_iter', 100, 400),\n",
        "           \"solver\": trial.suggest_categorical(\"solver\", [\"lbfgs\", \"liblinear\"])}\n",
        "    return space\n",
        "\n",
        "trials = 3"
      ]
    },
    {
      "cell_type": "code",
      "execution_count": null,
      "metadata": {
        "colab": {
          "base_uri": "https://localhost:8080/"
        },
        "id": "uYtwavt8UAgh",
        "outputId": "21ad069d-92e9-42cf-9209-da7f932a63c0"
      },
      "outputs": [
        {
          "name": "stderr",
          "output_type": "stream",
          "text": [
            "\u001b[32m[I 2023-01-02 17:59:19,297]\u001b[0m A new study created in memory with name: no-name-d3ef6b03-6d27-41c7-9d8e-12d1af10bf7a\u001b[0m\n",
            "<ipython-input-31-8683ca355b25>:3: FutureWarning: suggest_uniform has been deprecated in v3.0.0. This feature will be removed in v6.0.0. See https://github.com/optuna/optuna/releases/tag/v3.0.0. Use :func:`~optuna.trial.Trial.suggest_float` instead.\n",
            "  space = {\"C\": trial.suggest_uniform(\"C\", 0, 1),\n",
            "\u001b[32m[I 2023-01-02 17:59:19,400]\u001b[0m Trial 0 finished with value: 0.7882352941176471 and parameters: {'C': 0.30098041262981523, 'max_iter': 310, 'solver': 'lbfgs'}. Best is trial 0 with value: 0.7882352941176471.\u001b[0m\n",
            "<ipython-input-31-8683ca355b25>:3: FutureWarning: suggest_uniform has been deprecated in v3.0.0. This feature will be removed in v6.0.0. See https://github.com/optuna/optuna/releases/tag/v3.0.0. Use :func:`~optuna.trial.Trial.suggest_float` instead.\n",
            "  space = {\"C\": trial.suggest_uniform(\"C\", 0, 1),\n",
            "\u001b[32m[I 2023-01-02 17:59:19,520]\u001b[0m Trial 1 finished with value: 0.7882352941176471 and parameters: {'C': 0.698007155603269, 'max_iter': 282, 'solver': 'lbfgs'}. Best is trial 0 with value: 0.7882352941176471.\u001b[0m\n",
            "<ipython-input-31-8683ca355b25>:3: FutureWarning: suggest_uniform has been deprecated in v3.0.0. This feature will be removed in v6.0.0. See https://github.com/optuna/optuna/releases/tag/v3.0.0. Use :func:`~optuna.trial.Trial.suggest_float` instead.\n",
            "  space = {\"C\": trial.suggest_uniform(\"C\", 0, 1),\n",
            "\u001b[32m[I 2023-01-02 17:59:19,652]\u001b[0m Trial 2 finished with value: 0.7882352941176471 and parameters: {'C': 0.5214043331175412, 'max_iter': 138, 'solver': 'lbfgs'}. Best is trial 0 with value: 0.7882352941176471.\u001b[0m\n"
          ]
        },
        {
          "name": "stdout",
          "output_type": "stream",
          "text": [
            "params:  {'C': 0.30098041262981523, 'max_iter': 310, 'solver': 'lbfgs'}\n"
          ]
        }
      ],
      "source": [
        "study = optuna.create_study(direction='maximize')\n",
        "study.optimize(lambda x: objective(x, model, get_space, X_train_scaled, y_train), n_trials=trials)\n",
        "print('params: ', study.best_params)"
      ]
    },
    {
      "cell_type": "code",
      "execution_count": null,
      "metadata": {
        "colab": {
          "base_uri": "https://localhost:8080/",
          "height": 147
        },
        "id": "-cDQwjEaUBq0",
        "outputId": "03f7638f-54bb-4955-b1bc-c93a942182c1"
      },
      "outputs": [
        {
          "name": "stdout",
          "output_type": "stream",
          "text": [
            "accuracy_score 0.896551724137931\n",
            "TN =  12  FP =  3  FN =  0  TP =  14\n"
          ]
        },
        {
          "data": {
            "text/html": [
              "\n",
              "  <div id=\"df-36bf2ad4-9459-4892-8028-2d362d4b4f37\">\n",
              "    <div class=\"colab-df-container\">\n",
              "      <div>\n",
              "<style scoped>\n",
              "    .dataframe tbody tr th:only-of-type {\n",
              "        vertical-align: middle;\n",
              "    }\n",
              "\n",
              "    .dataframe tbody tr th {\n",
              "        vertical-align: top;\n",
              "    }\n",
              "\n",
              "    .dataframe thead th {\n",
              "        text-align: right;\n",
              "    }\n",
              "</style>\n",
              "<table border=\"1\" class=\"dataframe\">\n",
              "  <thead>\n",
              "    <tr style=\"text-align: right;\">\n",
              "      <th></th>\n",
              "      <th>1</th>\n",
              "      <th>0</th>\n",
              "    </tr>\n",
              "  </thead>\n",
              "  <tbody>\n",
              "    <tr>\n",
              "      <th>1</th>\n",
              "      <td>12</td>\n",
              "      <td>3</td>\n",
              "    </tr>\n",
              "    <tr>\n",
              "      <th>0</th>\n",
              "      <td>0</td>\n",
              "      <td>14</td>\n",
              "    </tr>\n",
              "  </tbody>\n",
              "</table>\n",
              "</div>\n",
              "      <button class=\"colab-df-convert\" onclick=\"convertToInteractive('df-36bf2ad4-9459-4892-8028-2d362d4b4f37')\"\n",
              "              title=\"Convert this dataframe to an interactive table.\"\n",
              "              style=\"display:none;\">\n",
              "        \n",
              "  <svg xmlns=\"http://www.w3.org/2000/svg\" height=\"24px\"viewBox=\"0 0 24 24\"\n",
              "       width=\"24px\">\n",
              "    <path d=\"M0 0h24v24H0V0z\" fill=\"none\"/>\n",
              "    <path d=\"M18.56 5.44l.94 2.06.94-2.06 2.06-.94-2.06-.94-.94-2.06-.94 2.06-2.06.94zm-11 1L8.5 8.5l.94-2.06 2.06-.94-2.06-.94L8.5 2.5l-.94 2.06-2.06.94zm10 10l.94 2.06.94-2.06 2.06-.94-2.06-.94-.94-2.06-.94 2.06-2.06.94z\"/><path d=\"M17.41 7.96l-1.37-1.37c-.4-.4-.92-.59-1.43-.59-.52 0-1.04.2-1.43.59L10.3 9.45l-7.72 7.72c-.78.78-.78 2.05 0 2.83L4 21.41c.39.39.9.59 1.41.59.51 0 1.02-.2 1.41-.59l7.78-7.78 2.81-2.81c.8-.78.8-2.07 0-2.86zM5.41 20L4 18.59l7.72-7.72 1.47 1.35L5.41 20z\"/>\n",
              "  </svg>\n",
              "      </button>\n",
              "      \n",
              "  <style>\n",
              "    .colab-df-container {\n",
              "      display:flex;\n",
              "      flex-wrap:wrap;\n",
              "      gap: 12px;\n",
              "    }\n",
              "\n",
              "    .colab-df-convert {\n",
              "      background-color: #E8F0FE;\n",
              "      border: none;\n",
              "      border-radius: 50%;\n",
              "      cursor: pointer;\n",
              "      display: none;\n",
              "      fill: #1967D2;\n",
              "      height: 32px;\n",
              "      padding: 0 0 0 0;\n",
              "      width: 32px;\n",
              "    }\n",
              "\n",
              "    .colab-df-convert:hover {\n",
              "      background-color: #E2EBFA;\n",
              "      box-shadow: 0px 1px 2px rgba(60, 64, 67, 0.3), 0px 1px 3px 1px rgba(60, 64, 67, 0.15);\n",
              "      fill: #174EA6;\n",
              "    }\n",
              "\n",
              "    [theme=dark] .colab-df-convert {\n",
              "      background-color: #3B4455;\n",
              "      fill: #D2E3FC;\n",
              "    }\n",
              "\n",
              "    [theme=dark] .colab-df-convert:hover {\n",
              "      background-color: #434B5C;\n",
              "      box-shadow: 0px 1px 3px 1px rgba(0, 0, 0, 0.15);\n",
              "      filter: drop-shadow(0px 1px 2px rgba(0, 0, 0, 0.3));\n",
              "      fill: #FFFFFF;\n",
              "    }\n",
              "  </style>\n",
              "\n",
              "      <script>\n",
              "        const buttonEl =\n",
              "          document.querySelector('#df-36bf2ad4-9459-4892-8028-2d362d4b4f37 button.colab-df-convert');\n",
              "        buttonEl.style.display =\n",
              "          google.colab.kernel.accessAllowed ? 'block' : 'none';\n",
              "\n",
              "        async function convertToInteractive(key) {\n",
              "          const element = document.querySelector('#df-36bf2ad4-9459-4892-8028-2d362d4b4f37');\n",
              "          const dataTable =\n",
              "            await google.colab.kernel.invokeFunction('convertToInteractive',\n",
              "                                                     [key], {});\n",
              "          if (!dataTable) return;\n",
              "\n",
              "          const docLinkHtml = 'Like what you see? Visit the ' +\n",
              "            '<a target=\"_blank\" href=https://colab.research.google.com/notebooks/data_table.ipynb>data table notebook</a>'\n",
              "            + ' to learn more about interactive tables.';\n",
              "          element.innerHTML = '';\n",
              "          dataTable['output_type'] = 'display_data';\n",
              "          await google.colab.output.renderOutput(dataTable, element);\n",
              "          const docLink = document.createElement('div');\n",
              "          docLink.innerHTML = docLinkHtml;\n",
              "          element.appendChild(docLink);\n",
              "        }\n",
              "      </script>\n",
              "    </div>\n",
              "  </div>\n",
              "  "
            ],
            "text/plain": [
              "    1   0\n",
              "1  12   3\n",
              "0   0  14"
            ]
          },
          "execution_count": 33,
          "metadata": {},
          "output_type": "execute_result"
        }
      ],
      "source": [
        "lr = model(**study.best_params)\n",
        "lr.fit(X_train_scaled, y_train)\n",
        "preds = lr.predict(X_test_scaled)\n",
        "print('accuracy_score', accuracy_score(y_test, preds))\n",
        "tn, fp, fn, tp = confusion_matrix(y_test, preds).ravel()\n",
        "print('TN = ', tn, ' FP = ', fp, ' FN = ', fn, ' TP = ', tp)\n",
        "data = confusion_matrix(y_test, preds)\n",
        "pd.DataFrame(data,['1','0'],['1','0'])"
      ]
    }
  ],
  "metadata": {
    "colab": {
      "collapsed_sections": [
        "8siVCn7HO-ng",
        "WZISFH5XQkdJ",
        "q9pqL_9lHXZq"
      ],
      "provenance": []
    },
    "kernelspec": {
      "display_name": "Python 3",
      "name": "python3"
    },
    "language_info": {
      "name": "python"
    },
    "widgets": {
      "application/vnd.jupyter.widget-state+json": {
        "0261236a41324a9c90c9e27547140f2d": {
          "model_module": "@jupyter-widgets/controls",
          "model_module_version": "1.5.0",
          "model_name": "DescriptionStyleModel",
          "state": {
            "_model_module": "@jupyter-widgets/controls",
            "_model_module_version": "1.5.0",
            "_model_name": "DescriptionStyleModel",
            "_view_count": null,
            "_view_module": "@jupyter-widgets/base",
            "_view_module_version": "1.2.0",
            "_view_name": "StyleView",
            "description_width": ""
          }
        },
        "02b985e74c4a4b12abdcb56cdefa150a": {
          "model_module": "@jupyter-widgets/base",
          "model_module_version": "1.2.0",
          "model_name": "LayoutModel",
          "state": {
            "_model_module": "@jupyter-widgets/base",
            "_model_module_version": "1.2.0",
            "_model_name": "LayoutModel",
            "_view_count": null,
            "_view_module": "@jupyter-widgets/base",
            "_view_module_version": "1.2.0",
            "_view_name": "LayoutView",
            "align_content": null,
            "align_items": null,
            "align_self": null,
            "border": null,
            "bottom": null,
            "display": null,
            "flex": null,
            "flex_flow": null,
            "grid_area": null,
            "grid_auto_columns": null,
            "grid_auto_flow": null,
            "grid_auto_rows": null,
            "grid_column": null,
            "grid_gap": null,
            "grid_row": null,
            "grid_template_areas": null,
            "grid_template_columns": null,
            "grid_template_rows": null,
            "height": null,
            "justify_content": null,
            "justify_items": null,
            "left": null,
            "margin": null,
            "max_height": null,
            "max_width": null,
            "min_height": null,
            "min_width": null,
            "object_fit": null,
            "object_position": null,
            "order": null,
            "overflow": null,
            "overflow_x": null,
            "overflow_y": null,
            "padding": null,
            "right": null,
            "top": null,
            "visibility": null,
            "width": null
          }
        },
        "0c88313c8f0f4503b6ddd184b5e65d10": {
          "model_module": "@jupyter-widgets/base",
          "model_module_version": "1.2.0",
          "model_name": "LayoutModel",
          "state": {
            "_model_module": "@jupyter-widgets/base",
            "_model_module_version": "1.2.0",
            "_model_name": "LayoutModel",
            "_view_count": null,
            "_view_module": "@jupyter-widgets/base",
            "_view_module_version": "1.2.0",
            "_view_name": "LayoutView",
            "align_content": null,
            "align_items": null,
            "align_self": null,
            "border": null,
            "bottom": null,
            "display": null,
            "flex": null,
            "flex_flow": null,
            "grid_area": null,
            "grid_auto_columns": null,
            "grid_auto_flow": null,
            "grid_auto_rows": null,
            "grid_column": null,
            "grid_gap": null,
            "grid_row": null,
            "grid_template_areas": null,
            "grid_template_columns": null,
            "grid_template_rows": null,
            "height": null,
            "justify_content": null,
            "justify_items": null,
            "left": null,
            "margin": null,
            "max_height": null,
            "max_width": null,
            "min_height": null,
            "min_width": null,
            "object_fit": null,
            "object_position": null,
            "order": null,
            "overflow": null,
            "overflow_x": null,
            "overflow_y": null,
            "padding": null,
            "right": null,
            "top": null,
            "visibility": null,
            "width": null
          }
        },
        "4e2777c6c0144479b692dd99c41e9513": {
          "model_module": "@jupyter-widgets/controls",
          "model_module_version": "1.5.0",
          "model_name": "FloatProgressModel",
          "state": {
            "_dom_classes": [],
            "_model_module": "@jupyter-widgets/controls",
            "_model_module_version": "1.5.0",
            "_model_name": "FloatProgressModel",
            "_view_count": null,
            "_view_module": "@jupyter-widgets/controls",
            "_view_module_version": "1.5.0",
            "_view_name": "ProgressView",
            "bar_style": "success",
            "description": "",
            "description_tooltip": null,
            "layout": "IPY_MODEL_02b985e74c4a4b12abdcb56cdefa150a",
            "max": 3,
            "min": 0,
            "orientation": "horizontal",
            "style": "IPY_MODEL_8786d2696a9345e18f03e5a06e1e1c0c",
            "value": 3
          }
        },
        "55c75d2b349c4c18ba56afb46604370c": {
          "model_module": "@jupyter-widgets/controls",
          "model_module_version": "1.5.0",
          "model_name": "HTMLModel",
          "state": {
            "_dom_classes": [],
            "_model_module": "@jupyter-widgets/controls",
            "_model_module_version": "1.5.0",
            "_model_name": "HTMLModel",
            "_view_count": null,
            "_view_module": "@jupyter-widgets/controls",
            "_view_module_version": "1.5.0",
            "_view_name": "HTMLView",
            "description": "",
            "description_tooltip": null,
            "layout": "IPY_MODEL_0c88313c8f0f4503b6ddd184b5e65d10",
            "placeholder": "​",
            "style": "IPY_MODEL_0261236a41324a9c90c9e27547140f2d",
            "value": " 3/3 [00:00&lt;00:00,  7.40it/s]"
          }
        },
        "8786d2696a9345e18f03e5a06e1e1c0c": {
          "model_module": "@jupyter-widgets/controls",
          "model_module_version": "1.5.0",
          "model_name": "ProgressStyleModel",
          "state": {
            "_model_module": "@jupyter-widgets/controls",
            "_model_module_version": "1.5.0",
            "_model_name": "ProgressStyleModel",
            "_view_count": null,
            "_view_module": "@jupyter-widgets/base",
            "_view_module_version": "1.2.0",
            "_view_name": "StyleView",
            "bar_color": null,
            "description_width": ""
          }
        },
        "c26289368ca346d099028b2576e96206": {
          "model_module": "@jupyter-widgets/controls",
          "model_module_version": "1.5.0",
          "model_name": "DescriptionStyleModel",
          "state": {
            "_model_module": "@jupyter-widgets/controls",
            "_model_module_version": "1.5.0",
            "_model_name": "DescriptionStyleModel",
            "_view_count": null,
            "_view_module": "@jupyter-widgets/base",
            "_view_module_version": "1.2.0",
            "_view_name": "StyleView",
            "description_width": ""
          }
        },
        "cca03ca01b61417eb827f4b599f8b87d": {
          "model_module": "@jupyter-widgets/base",
          "model_module_version": "1.2.0",
          "model_name": "LayoutModel",
          "state": {
            "_model_module": "@jupyter-widgets/base",
            "_model_module_version": "1.2.0",
            "_model_name": "LayoutModel",
            "_view_count": null,
            "_view_module": "@jupyter-widgets/base",
            "_view_module_version": "1.2.0",
            "_view_name": "LayoutView",
            "align_content": null,
            "align_items": null,
            "align_self": null,
            "border": null,
            "bottom": null,
            "display": null,
            "flex": null,
            "flex_flow": null,
            "grid_area": null,
            "grid_auto_columns": null,
            "grid_auto_flow": null,
            "grid_auto_rows": null,
            "grid_column": null,
            "grid_gap": null,
            "grid_row": null,
            "grid_template_areas": null,
            "grid_template_columns": null,
            "grid_template_rows": null,
            "height": null,
            "justify_content": null,
            "justify_items": null,
            "left": null,
            "margin": null,
            "max_height": null,
            "max_width": null,
            "min_height": null,
            "min_width": null,
            "object_fit": null,
            "object_position": null,
            "order": null,
            "overflow": null,
            "overflow_x": null,
            "overflow_y": null,
            "padding": null,
            "right": null,
            "top": null,
            "visibility": null,
            "width": null
          }
        },
        "ddfa81146c89434b8fb20f6307b27b94": {
          "model_module": "@jupyter-widgets/controls",
          "model_module_version": "1.5.0",
          "model_name": "HTMLModel",
          "state": {
            "_dom_classes": [],
            "_model_module": "@jupyter-widgets/controls",
            "_model_module_version": "1.5.0",
            "_model_name": "HTMLModel",
            "_view_count": null,
            "_view_module": "@jupyter-widgets/controls",
            "_view_module_version": "1.5.0",
            "_view_name": "HTMLView",
            "description": "",
            "description_tooltip": null,
            "layout": "IPY_MODEL_cca03ca01b61417eb827f4b599f8b87d",
            "placeholder": "​",
            "style": "IPY_MODEL_c26289368ca346d099028b2576e96206",
            "value": "100%"
          }
        },
        "ec601ae67ddc403bb57590c60b0e620b": {
          "model_module": "@jupyter-widgets/controls",
          "model_module_version": "1.5.0",
          "model_name": "HBoxModel",
          "state": {
            "_dom_classes": [],
            "_model_module": "@jupyter-widgets/controls",
            "_model_module_version": "1.5.0",
            "_model_name": "HBoxModel",
            "_view_count": null,
            "_view_module": "@jupyter-widgets/controls",
            "_view_module_version": "1.5.0",
            "_view_name": "HBoxView",
            "box_style": "",
            "children": [
              "IPY_MODEL_ddfa81146c89434b8fb20f6307b27b94",
              "IPY_MODEL_4e2777c6c0144479b692dd99c41e9513",
              "IPY_MODEL_55c75d2b349c4c18ba56afb46604370c"
            ],
            "layout": "IPY_MODEL_f34b6df84fd64167a0f3dc90b122ee88"
          }
        },
        "f34b6df84fd64167a0f3dc90b122ee88": {
          "model_module": "@jupyter-widgets/base",
          "model_module_version": "1.2.0",
          "model_name": "LayoutModel",
          "state": {
            "_model_module": "@jupyter-widgets/base",
            "_model_module_version": "1.2.0",
            "_model_name": "LayoutModel",
            "_view_count": null,
            "_view_module": "@jupyter-widgets/base",
            "_view_module_version": "1.2.0",
            "_view_name": "LayoutView",
            "align_content": null,
            "align_items": null,
            "align_self": null,
            "border": null,
            "bottom": null,
            "display": null,
            "flex": null,
            "flex_flow": null,
            "grid_area": null,
            "grid_auto_columns": null,
            "grid_auto_flow": null,
            "grid_auto_rows": null,
            "grid_column": null,
            "grid_gap": null,
            "grid_row": null,
            "grid_template_areas": null,
            "grid_template_columns": null,
            "grid_template_rows": null,
            "height": null,
            "justify_content": null,
            "justify_items": null,
            "left": null,
            "margin": null,
            "max_height": null,
            "max_width": null,
            "min_height": null,
            "min_width": null,
            "object_fit": null,
            "object_position": null,
            "order": null,
            "overflow": null,
            "overflow_x": null,
            "overflow_y": null,
            "padding": null,
            "right": null,
            "top": null,
            "visibility": null,
            "width": null
          }
        }
      }
    }
  },
  "nbformat": 4,
  "nbformat_minor": 0
}
